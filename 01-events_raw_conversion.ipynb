{
 "cells": [
  {
   "cell_type": "code",
   "execution_count": 1,
   "id": "4540b2bd-08b7-4448-889d-0af904d04698",
   "metadata": {},
   "outputs": [],
   "source": [
    "import pandas as pd\n",
    "from mplsoccer import Sblocal\n",
    "import os\n",
    "import glob\n",
    "import numpy as np\n",
    "from tqdm import tqdm"
   ]
  },
  {
   "cell_type": "code",
   "execution_count": 2,
   "id": "6299c243-3797-4dbd-b26a-2aa58492ddc6",
   "metadata": {},
   "outputs": [
    {
     "name": "stderr",
     "output_type": "stream",
     "text": [
      "Processing: 100%|██████████| 3316/3316 [30:02<00:00,  1.84it/s]    \n"
     ]
    }
   ],
   "source": [
    "parser = Sblocal()\n",
    "\n",
    "event_links = glob.glob(os.path.join('events', '**', '*.json'), recursive=True)\n",
    "\n",
    "if not event_links:\n",
    "    print(\"No JSON files found.\")\n",
    "else:\n",
    "    all_events = [] \n",
    "    batch_size = 331 \n",
    "    batch_count = 0  \n",
    "\n",
    "    for i, file in enumerate(tqdm(event_links, desc=\"Processing\")):\n",
    "        try:\n",
    "            events, related, freeze, tactics = parser.event(file)\n",
    "         \n",
    "            all_events.append(events) \n",
    "\n",
    "            #check if the batch size is reached or it's the last file\n",
    "            if len(all_events) == batch_size or i == len(event_links) - 1:\n",
    "                concatenated_events = pd.concat(all_events, ignore_index=True)\n",
    "\n",
    "                batch_count += 1\n",
    "                concatenated_events.to_parquet(os.path.join('event_raw', f'event_{batch_count}.parquet'), index=False)\n",
    "                all_events = []\n",
    "\n",
    "        except Exception as e:  \n",
    "            print(f\"Error processing {file}: {e}\")\n"
   ]
  }
 ],
 "metadata": {
  "kernelspec": {
   "display_name": "Python 3 (ipykernel)",
   "language": "python",
   "name": "python3"
  },
  "language_info": {
   "codemirror_mode": {
    "name": "ipython",
    "version": 3
   },
   "file_extension": ".py",
   "mimetype": "text/x-python",
   "name": "python",
   "nbconvert_exporter": "python",
   "pygments_lexer": "ipython3",
   "version": "3.11.7"
  }
 },
 "nbformat": 4,
 "nbformat_minor": 5
}
